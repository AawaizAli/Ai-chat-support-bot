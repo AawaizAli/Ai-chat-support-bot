{
 "cells": [
  {
   "cell_type": "code",
   "execution_count": 1,
   "id": "f26de2cd-13ac-4412-9839-9a4c90f2f53d",
   "metadata": {},
   "outputs": [
    {
     "name": "stdout",
     "output_type": "stream",
     "text": [
      "Model exported to naive_bayes_model.json\n"
     ]
    }
   ],
   "source": [
    "import joblib\n",
    "import json\n",
    "import numpy as np\n",
    "\n",
    "# Load the trained model and vectorizer\n",
    "model = joblib.load('naive_bayes_model.pkl')\n",
    "vectorizer = joblib.load('tfidf_vectorizer.pkl')\n",
    "\n",
    "# Extract model parameters\n",
    "model_params = {\n",
    "    'class_log_prior_': model.class_log_prior_.tolist(),\n",
    "    'feature_log_prob_': model.feature_log_prob_.tolist(),\n",
    "    'classes_': model.classes_.tolist(),\n",
    "    'vocabulary_': vectorizer.vocabulary_\n",
    "}\n",
    "\n",
    "# Save model parameters as JSON\n",
    "with open('naive_bayes_model.json', 'w') as f:\n",
    "    json.dump(model_params, f)\n",
    "\n",
    "print(\"Model exported to naive_bayes_model.json\")\n"
   ]
  },
  {
   "cell_type": "code",
   "execution_count": null,
   "id": "ba416738-1abf-4bd2-9c4c-6ff677b002b3",
   "metadata": {},
   "outputs": [],
   "source": []
  }
 ],
 "metadata": {
  "kernelspec": {
   "display_name": "Python 3 (ipykernel)",
   "language": "python",
   "name": "python3"
  },
  "language_info": {
   "codemirror_mode": {
    "name": "ipython",
    "version": 3
   },
   "file_extension": ".py",
   "mimetype": "text/x-python",
   "name": "python",
   "nbconvert_exporter": "python",
   "pygments_lexer": "ipython3",
   "version": "3.12.1"
  }
 },
 "nbformat": 4,
 "nbformat_minor": 5
}
